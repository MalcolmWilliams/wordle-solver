{
 "cells": [
  {
   "cell_type": "markdown",
   "metadata": {},
   "source": [
    "# wordle\n",
    "\n",
    "Make wordle, the fun viral word game sensation, no longer fun."
   ]
  },
  {
   "cell_type": "code",
   "execution_count": 1,
   "metadata": {},
   "outputs": [],
   "source": [
    "import matplotlib.pyplot as plt\n",
    "import numpy as np\n",
    "import pickle\n",
    "from tabulate import tabulate\n",
    "from tqdm.notebook import tqdm\n",
    "from copy import deepcopy"
   ]
  },
  {
   "cell_type": "code",
   "execution_count": 2,
   "metadata": {},
   "outputs": [
    {
     "name": "stdout",
     "output_type": "stream",
     "text": [
      "Length of google words dataset: 39933\n",
      "Length of dictionary dataset 15918\n"
     ]
    }
   ],
   "source": [
    "#turns out the first major challenge is assembling a good dictionary. \n",
    "#to do this, we are going to use a composite of two sources.\n",
    "# First, we will be using norvig's ngram frequency counts that is based on\n",
    "# google's 1 trillion word corpus. \n",
    "# We will then reject any non-english words using a dictionary\n",
    "\n",
    "i = 0\n",
    "words_google = []\n",
    "freq_google = []\n",
    "with open(\"count_1w.txt\") as wordfile:\n",
    "    for line in wordfile:\n",
    "        line_data = line.strip().split(\"\\t\")\n",
    "        if(len(line_data[0])==5):\n",
    "            words_google.append(line_data[0])\n",
    "            freq_google.append(line_data[1])\n",
    "words_google = np.array(words_google)\n",
    "freq_google = np.array(freq_google).astype(int)\n",
    "            \n",
    "# words_alpha taken from: https://github.com/dwyl/english-words\n",
    "with open('words_alpha.txt') as word_file:\n",
    "    words_alpha = set(word_file.read().split())\n",
    "words_alpha = [w for w in words_alpha if len(w)==5]\n",
    "\n",
    "print(\"Length of google words dataset:\",len(words_google))\n",
    "print(\"Length of dictionary dataset\",len(words_alpha))"
   ]
  },
  {
   "cell_type": "code",
   "execution_count": 21,
   "metadata": {},
   "outputs": [
    {
     "name": "stdout",
     "output_type": "stream",
     "text": [
      "Length of filtered dataset 9383\n"
     ]
    }
   ],
   "source": [
    "filt = np.isin(words_google, words_alpha)\n",
    "words_filt = words_google[filt]\n",
    "freq_filt = freq_google[filt]\n",
    "print(\"Length of filtered dataset\",len(words_filt))"
   ]
  },
  {
   "cell_type": "code",
   "execution_count": 23,
   "metadata": {},
   "outputs": [],
   "source": [
    "#sgb-words taken from norvig\n",
    "with open('sgb-words.txt') as word_file:\n",
    "    words = list(set(word_file.read().split()))\n",
    "words=np.array(words)"
   ]
  },
  {
   "cell_type": "code",
   "execution_count": 24,
   "metadata": {},
   "outputs": [],
   "source": [
    "# slightly trim down this word set by only keeping the ones that are relatively frequent according to google.\n",
    "\n",
    "w_freq = []\n",
    "for w in words:\n",
    "    res = freq_google[words_google==w]\n",
    "    if(len(res)>0):\n",
    "        w_freq.append(res[0])\n",
    "    else:\n",
    "        w_freq.append(0)\n",
    "w_freq = np.array(w_freq)"
   ]
  },
  {
   "cell_type": "code",
   "execution_count": 25,
   "metadata": {},
   "outputs": [
    {
     "name": "stdout",
     "output_type": "stream",
     "text": [
      "Length before filtering: 5757\n",
      "Length after filtering: 5086\n"
     ]
    }
   ],
   "source": [
    "print(\"Length before filtering:\", len(words))\n",
    "words = words[w_freq!=0]\n",
    "words = words[np.isin(words, words_alpha)]\n",
    "print(\"Length after filtering:\", len(words))"
   ]
  },
  {
   "cell_type": "code",
   "execution_count": 12,
   "metadata": {},
   "outputs": [],
   "source": [
    "# a nice fallback/starter dictionary\n",
    "# taken from https://github.com/first20hours/google-10000-english\n",
    "# with open(\"google-10000-english-usa-no-swears-medium.txt\") as word_file:\n",
    "#     words = set(word_file.read().split())\n",
    "# print(len(words))\n",
    "# words_5 = [w for w in words if len(w)==5]\n",
    "# print(len(words_5))\n",
    "# words = words_5"
   ]
  },
  {
   "cell_type": "code",
   "execution_count": 26,
   "metadata": {},
   "outputs": [],
   "source": [
    "#there are likely far faster numeric representations of this information, but I find \n",
    "#this to be intuitive.\n",
    "alphabet = ['a','b','c','d','e','f','g','h','i','j','k','l','m','n','o','p','q','r','s','t','u','v','w','x','y','z']\n",
    "possible_letters = [list(alphabet), #cant just do [alphabet]*5 as it creates a reference to a single list \n",
    "                    list(alphabet), \n",
    "                    list(alphabet), \n",
    "                    list(alphabet), \n",
    "                    list(alphabet)] \n",
    "required_letters = []"
   ]
  },
  {
   "cell_type": "code",
   "execution_count": 27,
   "metadata": {},
   "outputs": [
    {
     "name": "stdout",
     "output_type": "stream",
     "text": [
      "50.4 µs ± 1.44 µs per loop (mean ± std. dev. of 7 runs, 10,000 loops each)\n"
     ]
    }
   ],
   "source": [
    "def get_possible_letters(possible_letters, guess, true_word):\n",
    "    #replace this function with a \"get hint from true word\" and a \"get possible letters from hint\"\n",
    "    # combo\n",
    "    pl = deepcopy(possible_letters)\n",
    "    required_letters = []\n",
    "    for i_g, l in enumerate(guess):\n",
    "        if l not in true_word:\n",
    "            #remove from each index\n",
    "            for i in range(len(pl)):\n",
    "                try:\n",
    "                    pl[i].remove(l)\n",
    "                except ValueError:\n",
    "                    pass\n",
    "        else: #the letter is in the word\n",
    "            if l == true_word[i_g]:\n",
    "                #it is in the correct location\n",
    "                pl[i_g] = [l]\n",
    "            else:\n",
    "                #it was not in the correct location\n",
    "                #remove the letter from the other lists and add it to the required letters list\n",
    "                try:\n",
    "                    pl[i_g].remove(l)\n",
    "                except ValueError:\n",
    "                    pass\n",
    "                required_letters.append(l)\n",
    "    \n",
    "                \n",
    "    return pl, required_letters\n",
    "\n",
    "%timeit get_possible_letters(possible_letters, \"chief\", \"proxy\")"
   ]
  },
  {
   "cell_type": "code",
   "execution_count": 28,
   "metadata": {},
   "outputs": [
    {
     "name": "stdout",
     "output_type": "stream",
     "text": [
      "6.48 ms ± 242 µs per loop (mean ± std. dev. of 7 runs, 100 loops each)\n"
     ]
    }
   ],
   "source": [
    "def get_words_subset(words, possible_letters, required_letters):\n",
    "    words_subset = []\n",
    "    for w in words:\n",
    "        possible_word = True\n",
    "        for l, a in zip(w, possible_letters):\n",
    "            if l not in a:\n",
    "                possible_word = False\n",
    "                break\n",
    "        for l in required_letters:\n",
    "            if l not in w:\n",
    "                possible_word = False\n",
    "                break\n",
    "        if possible_word:\n",
    "            words_subset.append(w)\n",
    "    return words_subset\n",
    "\n",
    "%timeit get_words_subset(words, possible_letters, required_letters)"
   ]
  },
  {
   "cell_type": "code",
   "execution_count": 29,
   "metadata": {},
   "outputs": [],
   "source": [
    "possible_letters, required_letters = get_possible_letters(possible_letters, \"rates\", \"proxy\")\n",
    "words_subset = get_words_subset(words, possible_letters, required_letters)"
   ]
  },
  {
   "cell_type": "code",
   "execution_count": 30,
   "metadata": {},
   "outputs": [
    {
     "name": "stdout",
     "output_type": "stream",
     "text": [
      "142\n"
     ]
    }
   ],
   "source": [
    "print(len(words_subset))"
   ]
  },
  {
   "cell_type": "code",
   "execution_count": 31,
   "metadata": {},
   "outputs": [
    {
     "name": "stdout",
     "output_type": "stream",
     "text": [
      "2.5 s ± 60.2 ms per loop (mean ± std. dev. of 7 runs, 1 loop each)\n"
     ]
    }
   ],
   "source": [
    "def get_guess_scores(words_subset, possible_letters, required_letters):\n",
    "    guess_scores = []\n",
    "    for w_guess in words_subset:\n",
    "        pool = []\n",
    "        for w_test_true in words_subset:\n",
    "            pl, r = get_possible_letters(possible_letters, w_guess, w_test_true)\n",
    "            w_sub = get_words_subset(words_subset, pl, r)\n",
    "            pool.append(len(w_sub))\n",
    "        guess_scores.append([w_guess, np.mean(pool)])\n",
    "    guess_scores = np.array(guess_scores)\n",
    "    return guess_scores\n",
    "\n",
    "%timeit get_guess_scores(words_subset, possible_letters, required_letters)"
   ]
  },
  {
   "cell_type": "code",
   "execution_count": null,
   "metadata": {},
   "outputs": [],
   "source": [
    "#calculate the best initial guess. This takes a while but only needs to be done once.\n",
    "#takes about 40 minutes\n",
    "\n",
    "# possible_letters = [list(alphabet), #cant just do [alphabet]*5 as it creates a reference to a single list \n",
    "#                     list(alphabet), \n",
    "#                     list(alphabet), \n",
    "#                     list(alphabet), \n",
    "#                     list(alphabet)] \n",
    "# required_letters = []\n",
    "# guess_score=get_guess_scores(words, possible_letters, required_letters)\n",
    "# guess_score = guess_score[guess_score[:,1].astype(float).argsort()] # sort them so we can take a look\n",
    "# print(guess_score[:10])\n",
    "# pickle.dump( guess_score, open( \"initial_guess_score.pkl\", \"wb\" ) )"
   ]
  },
  {
   "cell_type": "code",
   "execution_count": 27,
   "metadata": {},
   "outputs": [
    {
     "name": "stdout",
     "output_type": "stream",
     "text": [
      "10000 loops, best of 5: 52.9 µs per loop\n"
     ]
    }
   ],
   "source": [
    "# in order to integrate with the web app we need to write code that \n",
    "# returns the possible letters and required letters without knowing the true word\n",
    "# The information that is returned is the location of true letters, the location of possible letters\n",
    "# and letters that are incorrect.\n",
    "\n",
    "def get_possible_letters_from_hint(possible_letters, guess, hint):\n",
    "    #the hint is formatted as:\n",
    "    #  n: this letter is not in the word\n",
    "    #  y: this letter is in the word, and is in the right place\n",
    "    #  m: this letter is in the word, but is not in the right place\n",
    "    pl = deepcopy(possible_letters)\n",
    "    required_letters = []\n",
    "    for i_g, l in enumerate(guess):\n",
    "        if hint[i_g] == 'n':\n",
    "            #remove from each index\n",
    "            for i in range(len(pl)):\n",
    "                try:\n",
    "                    pl[i].remove(l)\n",
    "                except ValueError:\n",
    "                    pass\n",
    "        elif hint[i_g] == 'y': #the letter is in the word\n",
    "            #it is in the correct location\n",
    "            pl[i_g] = [l]\n",
    "        else:\n",
    "            #it was not in the correct location\n",
    "            #remove the letter from the other lists and add it to the required letters list\n",
    "            try:\n",
    "                pl[i_g].remove(l)\n",
    "            except ValueError:\n",
    "                pass\n",
    "            required_letters.append(l)            \n",
    "    return pl, required_letters\n",
    "\n",
    "%timeit get_possible_letters_from_hint(possible_letters, \"rates\", \"nnnny\")"
   ]
  },
  {
   "cell_type": "code",
   "execution_count": 29,
   "metadata": {},
   "outputs": [
    {
     "name": "stdout",
     "output_type": "stream",
     "text": [
      "Best initial guess is: rates\n",
      "Enter your guess: rates\n",
      "[1, 'rates', '29.22', 5086]\n",
      "input the hint received: nnnmn\n",
      "New word pool length: 211\n",
      "[['ligne' '8.222748815165877']\n",
      " ['clone' '8.289099526066352']\n",
      " ['oldie' '8.582938388625593']\n",
      " ['noble' '9.132701421800947']\n",
      " ['dolce' '9.417061611374407']\n",
      " ['voile' '9.710900473933648']\n",
      " ['lodge' '9.966824644549764']\n",
      " ['binge' '10.080568720379146']\n",
      " ['opine' '10.184834123222748']\n",
      " ['glide' '10.364928909952607']]\n",
      "Enter your guess: ligne\n",
      "[2, 'ligne', '8.22', 211]\n",
      "input the hint received: nynmy\n",
      "New word pool length: 5\n",
      "[['wince' '1.0']\n",
      " ['mince' '1.0']\n",
      " ['niche' '1.4']\n",
      " ['niece' '1.4']\n",
      " ['nixie' '1.8']]\n",
      "Enter your guess: wince\n",
      "[3, 'wince', '1.00', 5]\n",
      "input the hint received: yyyyy\n",
      "New word pool length: 1\n",
      "The answer is: wince\n",
      "[['wince' '1.0']]\n",
      "  attempts  guess      expected pool size    total guess pool\n",
      "----------  -------  --------------------  ------------------\n",
      "         1  rates                   29.22                5086\n",
      "         2  ligne                    8.22                 211\n",
      "         3  wince                    1                      5\n"
     ]
    }
   ],
   "source": [
    "possible_letters = [list(alphabet), #cant just do [alphabet]*5 as it creates a reference to a single list \n",
    "                    list(alphabet), \n",
    "                    list(alphabet), \n",
    "                    list(alphabet), \n",
    "                    list(alphabet)] \n",
    "required_letters = []\n",
    "hint='nnnnn'\n",
    "words_subset = words\n",
    "guess_data = []\n",
    "attempts = 1\n",
    "\n",
    "guess_scores=pickle.load(open(\"initial_guess_scores.pkl\", \"rb\" )) # precomputed best guess \n",
    "guess_scores = guess_scores[guess_scores[:,1].astype(float).argsort()]\n",
    "\n",
    "print(\"Best initial guess is: rates\")\n",
    "\n",
    "while not hint == 'yyyyy':\n",
    "    #loop, providing new optimal guesses until we have sucessfully found the word\n",
    "    guess = input(\"Enter your guess: \")\n",
    "\n",
    "    my_guess_score = guess_scores[guess_scores[:, 0]==guess][0, 1]\n",
    "    guess_data.append([attempts, guess, f\"{float(my_guess_score):.2f}\", len(words_subset)])\n",
    "    print(guess_data[-1]) \n",
    "   \n",
    "    hint = input(\"input the hint received: \")\n",
    "    \n",
    "    possible_letters, r = get_possible_letters_from_hint(possible_letters, guess, hint)\n",
    "    required_letters.extend(r)\n",
    "    words_subset = get_words_subset(words_subset, possible_letters, required_letters)\n",
    "    print(\"New word pool length:\",len(words_subset))\n",
    "    guess_scores=get_guess_scores(words_subset, possible_letters, required_letters)\n",
    "    \n",
    "    if(len(guess_scores)==0):\n",
    "        print(\"Out of guesses! try a larger dataset\")\n",
    "        break\n",
    "    \n",
    "    guess_scores = guess_scores[guess_scores[:,1].astype(float).argsort()] # sort them so we can take a look\n",
    "\n",
    "    if(len(guess_scores)==1):\n",
    "        print(\"The answer is:\", guess_scores[0, 0])\n",
    "        print(guess_scores)\n",
    "\n",
    "        break\n",
    "    \n",
    "    print(guess_scores[0:10, :])\n",
    "        \n",
    "    attempts += 1\n",
    "    \n",
    "\n",
    "    \n",
    "    \n",
    "print(tabulate(guess_data, headers=['attempts', 'guess', 'expected pool size', 'total guess pool']))"
   ]
  },
  {
   "cell_type": "code",
   "execution_count": 134,
   "metadata": {},
   "outputs": [],
   "source": [
    "# guess_scores=pickle.load(open(\"initial_guess_scores.pkl\", \"rb\" )) # precomputed best guess \n",
    "# guess_scores = guess_scores[guess_scores[:,1].astype(float).argsort()]"
   ]
  },
  {
   "cell_type": "code",
   "execution_count": 248,
   "metadata": {},
   "outputs": [],
   "source": [
    "# it works pretty well, and is definitely super human.\n",
    "# it falls a little flat when looking attempting to determine the last few guesses as there isn't much\n",
    "# differentiation and it is mostly down to luck.\n",
    "\n",
    "# bug when choosing non suggested guess\n",
    "# increase word libary to 2500\n",
    "# profiling\n",
    "# "
   ]
  }
 ],
 "metadata": {
  "kernelspec": {
   "display_name": "Python 3 (ipykernel)",
   "language": "python",
   "name": "python3"
  },
  "language_info": {
   "codemirror_mode": {
    "name": "ipython",
    "version": 3
   },
   "file_extension": ".py",
   "mimetype": "text/x-python",
   "name": "python",
   "nbconvert_exporter": "python",
   "pygments_lexer": "ipython3",
   "version": "3.8.10"
  }
 },
 "nbformat": 4,
 "nbformat_minor": 4
}
