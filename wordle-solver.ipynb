{
 "cells": [
  {
   "cell_type": "markdown",
   "metadata": {},
   "source": [
    "# wordle\n",
    "\n",
    "Make wordle, the fun viral word game sensation, no longer fun."
   ]
  },
  {
   "cell_type": "code",
   "execution_count": 4,
   "metadata": {},
   "outputs": [],
   "source": [
    "import matplotlib.pyplot as plt\n",
    "import numpy as np\n",
    "import pickle\n",
    "from tabulate import tabulate\n",
    "from tqdm.notebook import tqdm\n",
    "from copy import deepcopy"
   ]
  },
  {
   "cell_type": "code",
   "execution_count": 5,
   "metadata": {},
   "outputs": [
    {
     "name": "stdout",
     "output_type": "stream",
     "text": [
      "Length of google words dataset: 39933\n",
      "Length of dictionary dataset 15918\n"
     ]
    }
   ],
   "source": [
    "#turns out the first major challenge is assembling a good dictionary. \n",
    "#to do this, we are going to use a composite of two sources.\n",
    "# First, we will be using norvig's ngram frequency counts that is based on\n",
    "# google's 1 trillion word corpus. \n",
    "# We will then reject any non-english words using a dictionary\n",
    "\n",
    "i = 0\n",
    "words_google = []\n",
    "freq_google = []\n",
    "with open(\"dictionaries/count_1w.txt\") as wordfile:\n",
    "    for line in wordfile:\n",
    "        line_data = line.strip().split(\"\\t\")\n",
    "        if(len(line_data[0])==5):\n",
    "            words_google.append(line_data[0])\n",
    "            freq_google.append(line_data[1])\n",
    "words_google = np.array(words_google)\n",
    "freq_google = np.array(freq_google).astype(int)\n",
    "            \n",
    "# words_alpha taken from: https://github.com/dwyl/english-words\n",
    "with open('dictionaries/words_alpha.txt') as word_file:\n",
    "    words_alpha = set(word_file.read().split())\n",
    "words_alpha = [w for w in words_alpha if len(w)==5]\n",
    "\n",
    "print(\"Length of google words dataset:\",len(words_google))\n",
    "print(\"Length of dictionary dataset\",len(words_alpha))"
   ]
  },
  {
   "cell_type": "code",
   "execution_count": 6,
   "metadata": {},
   "outputs": [
    {
     "name": "stdout",
     "output_type": "stream",
     "text": [
      "Length of filtered dataset 9383\n"
     ]
    }
   ],
   "source": [
    "filt = np.isin(words_google, words_alpha)\n",
    "words_filt = words_google[filt]\n",
    "freq_filt = freq_google[filt]\n",
    "print(\"Length of filtered dataset\",len(words_filt))"
   ]
  },
  {
   "cell_type": "code",
   "execution_count": 7,
   "metadata": {},
   "outputs": [],
   "source": [
    "#sgb-words taken from norvig\n",
    "with open('dictionaries/sgb-words.txt') as word_file:\n",
    "    words = list(set(word_file.read().split()))\n",
    "words=np.array(words)"
   ]
  },
  {
   "cell_type": "code",
   "execution_count": 8,
   "metadata": {},
   "outputs": [],
   "source": [
    "# slightly trim down this word set by only keeping the ones that are relatively frequent according to google.\n",
    "\n",
    "w_freq = []\n",
    "for w in words:\n",
    "    res = freq_google[words_google==w]\n",
    "    if(len(res)>0):\n",
    "        w_freq.append(res[0])\n",
    "    else:\n",
    "        w_freq.append(0)\n",
    "w_freq = np.array(w_freq)"
   ]
  },
  {
   "cell_type": "code",
   "execution_count": 9,
   "metadata": {},
   "outputs": [
    {
     "name": "stdout",
     "output_type": "stream",
     "text": [
      "Length before filtering: 5757\n",
      "Length after filtering: 5086\n"
     ]
    }
   ],
   "source": [
    "print(\"Length before filtering:\", len(words))\n",
    "words = words[w_freq!=0]\n",
    "words = words[np.isin(words, words_alpha)]\n",
    "print(\"Length after filtering:\", len(words))"
   ]
  },
  {
   "cell_type": "code",
   "execution_count": 10,
   "metadata": {},
   "outputs": [],
   "source": [
    "# a nice fallback/starter dictionary\n",
    "# taken from https://github.com/first20hours/google-10000-english\n",
    "# with open(\"dictionaries/google-10000-english-usa-no-swears-medium.txt\") as word_file:\n",
    "#     words = set(word_file.read().split())\n",
    "# print(len(words))\n",
    "# words_5 = [w for w in words if len(w)==5]\n",
    "# print(len(words_5))\n",
    "# words = words_5"
   ]
  },
  {
   "cell_type": "code",
   "execution_count": 89,
   "metadata": {},
   "outputs": [],
   "source": [
    "#there are likely far faster numeric representations of this information, but I find \n",
    "#this to be intuitive.\n",
    "alphabet = ['a','b','c','d','e','f','g','h','i','j','k','l','m','n','o','p','q','r','s','t','u','v','w','x','y','z']\n",
    "possible_letters = [list(alphabet), #cant just do [alphabet]*5 as it creates a reference to a single list \n",
    "                    list(alphabet), \n",
    "                    list(alphabet), \n",
    "                    list(alphabet), \n",
    "                    list(alphabet)] \n",
    "required_letters = []"
   ]
  },
  {
   "cell_type": "code",
   "execution_count": 12,
   "metadata": {},
   "outputs": [
    {
     "name": "stdout",
     "output_type": "stream",
     "text": [
      "101 µs ± 2.93 µs per loop (mean ± std. dev. of 7 runs, 10,000 loops each)\n"
     ]
    }
   ],
   "source": [
    "def get_possible_letters(possible_letters, guess, true_word):\n",
    "    #replace this function with a \"get hint from true word\" and a \"get possible letters from hint\"\n",
    "    # combo\n",
    "    pl = deepcopy(possible_letters)\n",
    "    required_letters = []\n",
    "    for i_g, l in enumerate(guess):\n",
    "        if l not in true_word:\n",
    "            #remove from each index\n",
    "            for i in range(len(pl)):\n",
    "                try:\n",
    "                    pl[i].remove(l)\n",
    "                except ValueError:\n",
    "                    pass\n",
    "        else: #the letter is in the word\n",
    "            if l == true_word[i_g]:\n",
    "                #it is in the correct location\n",
    "                pl[i_g] = [l]\n",
    "            else:\n",
    "                #it was not in the correct location\n",
    "                #remove the letter from the other lists and add it to the required letters list\n",
    "                try:\n",
    "                    pl[i_g].remove(l)\n",
    "                except ValueError:\n",
    "                    pass\n",
    "                required_letters.append(l)\n",
    "    \n",
    "                \n",
    "    return pl, required_letters\n",
    "\n",
    "%timeit get_possible_letters(possible_letters, \"chief\", \"proxy\")"
   ]
  },
  {
   "cell_type": "code",
   "execution_count": 144,
   "metadata": {},
   "outputs": [
    {
     "name": "stdout",
     "output_type": "stream",
     "text": [
      "4 ms ± 36 µs per loop (mean ± std. dev. of 7 runs, 100 loops each)\n"
     ]
    }
   ],
   "source": [
    "def get_words_subset(words, possible_letters, required_letters):\n",
    "    #structure this code to exit as early as possible for fastest running\n",
    "    words_subset = []\n",
    "    for r in required_letters:\n",
    "        for w in words:\n",
    "            if r in w:\n",
    "                possible=True\n",
    "                for l, pl in zip(w, possible_letters):\n",
    "                    if l not in pl:\n",
    "                        possible=False\n",
    "                        break\n",
    "                if possible:\n",
    "                    words_subset.append(w)\n",
    "    return words_subset\n",
    "\n",
    "%timeit words_subset = get_words_subset(words, possible_letters, required_letters)"
   ]
  },
  {
   "cell_type": "code",
   "execution_count": 151,
   "metadata": {},
   "outputs": [
    {
     "name": "stdout",
     "output_type": "stream",
     "text": [
      "4.73 ms ± 175 µs per loop (mean ± std. dev. of 7 runs, 100 loops each)\n"
     ]
    }
   ],
   "source": [
    "def get_words_subset(words, possible_letters, required_letters):\n",
    "    words_subset = []\n",
    "    for w in words:\n",
    "        possible_word = True\n",
    "        for l, a in zip(w, possible_letters):\n",
    "            if l not in a:\n",
    "                possible_word = False\n",
    "                break\n",
    "        for l in required_letters:\n",
    "            if l not in w:\n",
    "                possible_word = False\n",
    "                break\n",
    "        if possible_word:\n",
    "            words_subset.append(w)\n",
    "    return words_subset\n",
    "\n",
    "%timeit get_words_subset(words, possible_letters, required_letters)"
   ]
  },
  {
   "cell_type": "code",
   "execution_count": 145,
   "metadata": {},
   "outputs": [],
   "source": [
    "possible_letters, required_letters = get_possible_letters(possible_letters, \"rates\", \"proxy\")\n",
    "words_subset = get_words_subset(words, possible_letters, required_letters)"
   ]
  },
  {
   "cell_type": "code",
   "execution_count": 146,
   "metadata": {},
   "outputs": [
    {
     "name": "stdout",
     "output_type": "stream",
     "text": [
      "142\n"
     ]
    }
   ],
   "source": [
    "print(len(words_subset))"
   ]
  },
  {
   "cell_type": "code",
   "execution_count": 202,
   "metadata": {},
   "outputs": [],
   "source": [
    "def get_guess_scores(words_subset, possible_letters, required_letters, guess_subset=None):\n",
    "    if guess_subset is None:\n",
    "        guess_subset = words_subset\n",
    "    guess_scores = []\n",
    "    for w_guess in guess_subset:\n",
    "        pool = []\n",
    "        for w_test_true in words_subset:\n",
    "            pl, r = get_possible_letters(possible_letters, w_guess, w_test_true)\n",
    "            w_sub = get_words_subset(words_subset, pl, r)\n",
    "            pool.append(len(w_sub))\n",
    "        guess_scores.append([w_guess, np.mean(pool)])\n",
    "    guess_scores = np.array(guess_scores)\n",
    "    return guess_scores\n",
    "\n",
    "# %timeit get_guess_scores(words_subset, possible_letters, required_letters)"
   ]
  },
  {
   "cell_type": "code",
   "execution_count": 269,
   "metadata": {},
   "outputs": [],
   "source": [
    "#calculate the best initial guess. This takes a while but only needs to be done once.\n",
    "#takes about 40 minutes\n",
    "# a faster way to calculate the initial guess using multigrid inspired methods is presented below\n",
    "\n",
    "# possible_letters = [list(alphabet), #cant just do [alphabet]*5 as it creates a reference to a single list \n",
    "#                     list(alphabet), \n",
    "#                     list(alphabet), \n",
    "#                     list(alphabet), \n",
    "#                     list(alphabet)] \n",
    "# required_letters = []\n",
    "# guess_scores=get_guess_scores(words_small, possible_letters, required_letters)\n",
    "# guess_scores = guess_scores[guess_scores[:,1].astype(float).argsort()] # sort them so we can take a look\n",
    "# print(guess_scores)\n",
    "# pickle.dump( guess_score, open( \"initial_guess_score.pkl\", \"wb\" ) )"
   ]
  },
  {
   "cell_type": "code",
   "execution_count": 252,
   "metadata": {},
   "outputs": [],
   "source": [
    "words_small = words#[:300]"
   ]
  },
  {
   "cell_type": "code",
   "execution_count": 267,
   "metadata": {},
   "outputs": [
    {
     "name": "stdout",
     "output_type": "stream",
     "text": [
      "['deems' 'prise' 'upper' 'saber' 'podia' 'aegis' 'syrup' 'grips' 'poser'\n",
      " 'pines']\n",
      "['aloes' 'mates' 'rates' 'tames' 'tares' 'pates' 'rites' 'aides' 'hates'\n",
      " 'reals']\n",
      "[['tares' '6.773333333333333']\n",
      " ['rates' '6.78']\n",
      " ['nares' '7.173333333333333']\n",
      " ['reals' '7.213333333333333']\n",
      " ['aloes' '7.58']\n",
      " ['tears' '7.68']\n",
      " ['earls' '7.846666666666667']\n",
      " ['cares' '7.94']\n",
      " ['tires' '8.093333333333334']\n",
      " ['rites' '8.146666666666667']]\n",
      "CPU times: user 52.7 s, sys: 20 ms, total: 52.7 s\n",
      "Wall time: 52.7 s\n"
     ]
    }
   ],
   "source": [
    "%%time\n",
    "# do a faster guess score calculation. This is particularly important when the word list is long\n",
    "# 1. randomly sample some possible true words from your word list.\n",
    "# 2. Calculate this guess score on the sampled list. \n",
    "# 3. Take the top 20 guesses and calculate a more accurate guess score using the full word list.\n",
    "possible_letters = [list(alphabet), #cant just do [alphabet]*5 as it creates a reference to a single list \n",
    "                    list(alphabet), \n",
    "                    list(alphabet), \n",
    "                    list(alphabet), \n",
    "                    list(alphabet)] \n",
    "required_letters = []\n",
    "test_words=words[np.random.choice(len(words_small), size=10, replace=False)] # there's probably a better way to do this\n",
    "guess_scores = get_guess_scores(test_words, possible_letters, required_letters, guess_subset=words_small)\n",
    "guess_scores = guess_scores[guess_scores[:,1].astype(float).argsort()] # sort them so we can take a look\n",
    "\n",
    "best_guesses = guess_scores[:1000, 0]\n",
    "print(best_guesses[:10])\n",
    "test_words=words[np.random.choice(len(words_small), size=100, replace=False)] # there's probably a better way to do this\n",
    "guess_scores = get_guess_scores(test_words, possible_letters, required_letters, guess_subset=best_guesses)\n",
    "guess_scores = guess_scores[guess_scores[:,1].astype(float).argsort()] # sort them so we can take a look\n",
    "\n",
    "best_guesses = guess_scores[:100, 0]\n",
    "print(best_guesses[:10])\n",
    "test_words=words[np.random.choice(len(words_small), size=300, replace=False)] # there's probably a better way to do this\n",
    "guess_scores = get_guess_scores(test_words, possible_letters, required_letters, guess_subset=best_guesses)\n",
    "guess_scores = guess_scores[guess_scores[:,1].astype(float).argsort()] # sort them so we can take a look\n",
    "\n",
    "best_guesses = guess_scores[:10, 0]\n",
    "guess_scores = get_guess_scores(words_small, possible_letters, required_letters, guess_subset=best_guesses)\n",
    "guess_scores = guess_scores[guess_scores[:,1].astype(float).argsort()] # sort them so we can take a look\n",
    "print(guess_scores[:10])"
   ]
  },
  {
   "cell_type": "code",
   "execution_count": 270,
   "metadata": {},
   "outputs": [],
   "source": [
    "# I've seen adieu mentioned on some articles. It performs relatively poorly with a mean pool size of 261\n",
    "guess_scores = get_guess_scores(words_small, possible_letters, required_letters, guess_subset=[\"adieu\"])"
   ]
  },
  {
   "cell_type": "code",
   "execution_count": null,
   "metadata": {},
   "outputs": [],
   "source": [
    "# Given a guess, some restrictions and a word subset\n",
    "# return a list of how many attempts it would take to complete for every word in the set if it was the true one\n",
    "#\n",
    "# The idea behind this is that we might be able to avoid issues with trying to guess a single \n",
    "# consonant as your last word\n",
    "#\n",
    "# for each word in the word subset:\n",
    "#     calculate the resulting subset using that word as a guess\n",
    "#         if len subset == 1\n",
    "#             we have found the true word.\n",
    "#         else, recurse.\n",
    "# \n",
    "\n",
    "def get_guess_scores_mean_to_completion(words_subset, possible_letters, required_letters):\n",
    "    # This is a different way of calculating what the best guess to use is. \n",
    "    # instead of just looking at the resulting size of the pool, choose the guess that will minimize \n",
    "    # the average number of guesses to get the correct answer.\n",
    "    guess_scores = []\n",
    "    for w_guess in words_subset:\n",
    "        pool = []\n",
    "        for w_test_true in words_subset:\n",
    "            pl, r = get_possible_letters(possible_letters, w_guess, w_test_true)\n",
    "            w_sub = get_words_subset(words_subset, pl, r)\n",
    "            pool.append(len(w_sub))\n",
    "        guess_scores.append([w_guess, np.mean(pool)])\n",
    "    guess_scores = np.array(guess_scores)\n",
    "    return guess_scores"
   ]
  },
  {
   "cell_type": "code",
   "execution_count": 148,
   "metadata": {},
   "outputs": [
    {
     "name": "stdout",
     "output_type": "stream",
     "text": [
      "106 µs ± 5.64 µs per loop (mean ± std. dev. of 7 runs, 10,000 loops each)\n"
     ]
    }
   ],
   "source": [
    "# in order to integrate with the web app we need to write code that \n",
    "# returns the possible letters and required letters without knowing the true word\n",
    "# The information that is returned is the location of true letters, the location of possible letters\n",
    "# and letters that are incorrect.\n",
    "\n",
    "def get_possible_letters_from_hint(possible_letters, guess, hint):\n",
    "    #the hint is formatted as:\n",
    "    #  n: this letter is not in the word\n",
    "    #  y: this letter is in the word, and is in the right place\n",
    "    #  m: this letter is in the word, but is not in the right place\n",
    "    pl = deepcopy(possible_letters)\n",
    "    required_letters = []\n",
    "    for i_g, l in enumerate(guess):\n",
    "        if hint[i_g] == 'n':\n",
    "            #remove from each index\n",
    "            for i in range(len(pl)):\n",
    "                try:\n",
    "                    pl[i].remove(l)\n",
    "                except ValueError:\n",
    "                    pass\n",
    "        elif hint[i_g] == 'y': #the letter is in the word\n",
    "            #it is in the correct location\n",
    "            pl[i_g] = [l]\n",
    "        else:\n",
    "            #it was not in the correct location\n",
    "            #remove the letter from the other lists and add it to the required letters list\n",
    "            try:\n",
    "                pl[i_g].remove(l)\n",
    "            except ValueError:\n",
    "                pass\n",
    "            required_letters.append(l)            \n",
    "    return pl, required_letters\n",
    "\n",
    "%timeit get_possible_letters_from_hint(possible_letters, \"rates\", \"nnnny\")"
   ]
  },
  {
   "cell_type": "code",
   "execution_count": 262,
   "metadata": {},
   "outputs": [
    {
     "name": "stdout",
     "output_type": "stream",
     "text": [
      "Best initial guess is: rates\n",
      "Enter your guess: tares\n",
      "[1, 'tares', '0.00', 5086]\n",
      "input the hint received: nnnmn\n",
      "New word pool length: 211\n",
      "[['ligne' '8.222748815165877']\n",
      " ['clone' '8.289099526066352']\n",
      " ['oldie' '8.582938388625593']\n",
      " ['noble' '9.132701421800947']\n",
      " ['dolce' '9.417061611374407']\n",
      " ['voile' '9.710900473933648']\n",
      " ['lodge' '9.966824644549764']\n",
      " ['binge' '10.080568720379146']\n",
      " ['opine' '10.184834123222748']\n",
      " ['glide' '10.364928909952607']]\n",
      "Enter your guess: ligne\n",
      "[2, 'ligne', '8.22', 211]\n",
      "input the hint received: nynmy\n",
      "New word pool length: 5\n",
      "[['mince' '1.0']\n",
      " ['wince' '1.0']\n",
      " ['niece' '1.4']\n",
      " ['niche' '1.4']\n",
      " ['nixie' '1.8']]\n",
      "Enter your guess: wince\n",
      "[3, 'wince', '1.00', 5]\n",
      "input the hint received: yyyyy\n",
      "New word pool length: 1\n",
      "[['wince' '1.0']]\n",
      "  attempts  guess      expected pool size    total guess pool\n",
      "----------  -------  --------------------  ------------------\n",
      "         1  tares                    0                   5086\n",
      "         2  ligne                    8.22                 211\n",
      "         3  wince                    1                      5\n"
     ]
    }
   ],
   "source": [
    "possible_letters = [list(alphabet), #cant just do [alphabet]*5 as it creates a reference to a single list \n",
    "                    list(alphabet), \n",
    "                    list(alphabet), \n",
    "                    list(alphabet), \n",
    "                    list(alphabet)] \n",
    "required_letters = []\n",
    "hint='nnnnn'\n",
    "words_subset = words\n",
    "guess_data = []\n",
    "attempts = 1\n",
    "\n",
    "guess_scores=pickle.load(open(\"initial_guess_scores.pkl\", \"rb\" )) # precomputed best guess \n",
    "guess_scores = guess_scores[guess_scores[:,1].astype(float).argsort()]\n",
    "\n",
    "print(\"Best initial guess is: rates\")\n",
    "\n",
    "while not hint == 'yyyyy':\n",
    "    #loop, providing new optimal guesses until we have sucessfully found the word\n",
    "    guess = input(\"Enter your guess: \")\n",
    "\n",
    "    try:\n",
    "        my_guess_score = guess_scores[guess_scores[:, 0]==guess][0, 1]\n",
    "    except:\n",
    "        my_guess_score=0\n",
    "    guess_data.append([attempts, guess, f\"{float(my_guess_score):.2f}\", len(words_subset)])\n",
    "    print(guess_data[-1]) \n",
    "   \n",
    "    hint = input(\"input the hint received: \")\n",
    "    \n",
    "    possible_letters, r = get_possible_letters_from_hint(possible_letters, guess, hint)\n",
    "    required_letters.extend(r)\n",
    "    words_subset = get_words_subset(words_subset, possible_letters, required_letters)\n",
    "    print(\"New word pool length:\",len(words_subset))\n",
    "    guess_scores=get_guess_scores(words_subset, possible_letters, required_letters)\n",
    "    \n",
    "    if(len(guess_scores)==0):\n",
    "        print(\"Out of guesses! try a larger dataset\")\n",
    "        break\n",
    "    \n",
    "    guess_scores = guess_scores[guess_scores[:,1].astype(float).argsort()] # sort them so we can take a look\n",
    "\n",
    "    if(len(guess_scores)==1 and hint != \"yyyyy\"):\n",
    "        print(\"The answer is:\", guess_scores[0, 0])\n",
    "        attempts += 1    \n",
    "        guess_data.append([attempts, guess, f\"{float(my_guess_score):.2f}\", len(words_subset)])\n",
    "\n",
    "        break\n",
    "    \n",
    "    print(guess_scores[0:10, :])\n",
    "        \n",
    "    attempts += 1    \n",
    "    \n",
    "print(tabulate(guess_data, headers=['attempts', 'guess', 'expected pool size', 'total guess pool']))"
   ]
  },
  {
   "cell_type": "code",
   "execution_count": 185,
   "metadata": {},
   "outputs": [
    {
     "data": {
      "application/vnd.jupyter.widget-view+json": {
       "model_id": "b78511929b7040e8af4447e88be8e1ce",
       "version_major": 2,
       "version_minor": 0
      },
      "text/plain": [
       "  0%|          | 0/5086 [00:00<?, ?it/s]"
      ]
     },
     "metadata": {},
     "output_type": "display_data"
    },
    {
     "ename": "KeyboardInterrupt",
     "evalue": "",
     "output_type": "error",
     "traceback": [
      "\u001b[0;31m---------------------------------------------------------------------------\u001b[0m",
      "\u001b[0;31mKeyboardInterrupt\u001b[0m                         Traceback (most recent call last)",
      "Input \u001b[0;32mIn [185]\u001b[0m, in \u001b[0;36m<module>\u001b[0;34m\u001b[0m\n\u001b[1;32m     16\u001b[0m \u001b[38;5;28;01mwhile\u001b[39;00m \u001b[38;5;28mlen\u001b[39m(words_subset) \u001b[38;5;241m>\u001b[39m \u001b[38;5;241m1\u001b[39m:\n\u001b[1;32m     17\u001b[0m     attempts\u001b[38;5;241m+\u001b[39m\u001b[38;5;241m=\u001b[39m\u001b[38;5;241m1\u001b[39m\n\u001b[0;32m---> 18\u001b[0m     guess_scores\u001b[38;5;241m=\u001b[39m\u001b[43mget_guess_scores\u001b[49m\u001b[43m(\u001b[49m\u001b[43mwords_subset\u001b[49m\u001b[43m,\u001b[49m\u001b[43m \u001b[49m\u001b[43mpossible_letters\u001b[49m\u001b[43m,\u001b[49m\u001b[43m \u001b[49m\u001b[43mrequired_letters\u001b[49m\u001b[43m)\u001b[49m\n\u001b[1;32m     19\u001b[0m     guess \u001b[38;5;241m=\u001b[39m guess_scores[np\u001b[38;5;241m.\u001b[39margmin(guess_scores[:, \u001b[38;5;241m1\u001b[39m]\u001b[38;5;241m.\u001b[39mastype(\u001b[38;5;28mfloat\u001b[39m)), \u001b[38;5;241m0\u001b[39m]\n\u001b[1;32m     21\u001b[0m     possible_letters, r \u001b[38;5;241m=\u001b[39m get_possible_letters(possible_letters, guess, true_word)\n",
      "Input \u001b[0;32mIn [137]\u001b[0m, in \u001b[0;36mget_guess_scores\u001b[0;34m(words_subset, possible_letters, required_letters)\u001b[0m\n\u001b[1;32m      5\u001b[0m \u001b[38;5;28;01mfor\u001b[39;00m w_test_true \u001b[38;5;129;01min\u001b[39;00m words_subset:\n\u001b[1;32m      6\u001b[0m     pl, r \u001b[38;5;241m=\u001b[39m get_possible_letters(possible_letters, w_guess, w_test_true)\n\u001b[0;32m----> 7\u001b[0m     w_sub \u001b[38;5;241m=\u001b[39m \u001b[43mget_words_subset\u001b[49m\u001b[43m(\u001b[49m\u001b[43mwords_subset\u001b[49m\u001b[43m,\u001b[49m\u001b[43m \u001b[49m\u001b[43mpl\u001b[49m\u001b[43m,\u001b[49m\u001b[43m \u001b[49m\u001b[43mr\u001b[49m\u001b[43m)\u001b[49m\n\u001b[1;32m      8\u001b[0m     pool\u001b[38;5;241m.\u001b[39mappend(\u001b[38;5;28mlen\u001b[39m(w_sub))\n\u001b[1;32m      9\u001b[0m guess_scores\u001b[38;5;241m.\u001b[39mappend([w_guess, np\u001b[38;5;241m.\u001b[39mmean(pool)])\n",
      "Input \u001b[0;32mIn [151]\u001b[0m, in \u001b[0;36mget_words_subset\u001b[0;34m(words, possible_letters, required_letters)\u001b[0m\n\u001b[1;32m      4\u001b[0m possible_word \u001b[38;5;241m=\u001b[39m \u001b[38;5;28;01mTrue\u001b[39;00m\n\u001b[1;32m      5\u001b[0m \u001b[38;5;28;01mfor\u001b[39;00m l, a \u001b[38;5;129;01min\u001b[39;00m \u001b[38;5;28mzip\u001b[39m(w, possible_letters):\n\u001b[0;32m----> 6\u001b[0m     \u001b[38;5;28;01mif\u001b[39;00m \u001b[43ml\u001b[49m\u001b[43m \u001b[49m\u001b[38;5;129;43;01mnot\u001b[39;49;00m\u001b[43m \u001b[49m\u001b[38;5;129;43;01min\u001b[39;49;00m\u001b[43m \u001b[49m\u001b[43ma\u001b[49m:\n\u001b[1;32m      7\u001b[0m         possible_word \u001b[38;5;241m=\u001b[39m \u001b[38;5;28;01mFalse\u001b[39;00m\n\u001b[1;32m      8\u001b[0m         \u001b[38;5;28;01mbreak\u001b[39;00m\n",
      "\u001b[0;31mKeyboardInterrupt\u001b[0m: "
     ]
    }
   ],
   "source": [
    "# profiler\n",
    "attempts_arr = []\n",
    "for true_word in tqdm(words):\n",
    "    guess = \"tares\"\n",
    "\n",
    "    possible_letters = [list(alphabet), #cant just do [alphabet]*5 as it creates a reference to a single list \n",
    "                        list(alphabet), \n",
    "                        list(alphabet), \n",
    "                        list(alphabet), \n",
    "                        list(alphabet)] \n",
    "    required_letters = []\n",
    "\n",
    "    possible_letters, r = get_possible_letters(possible_letters, guess, true_word)\n",
    "    required_letters.extend(r)\n",
    "    words_subset = get_words_subset(words, possible_letters, required_letters)\n",
    "    while len(words_subset) > 1:\n",
    "        attempts+=1\n",
    "        guess_scores=get_guess_scores(words_subset, possible_letters, required_letters)\n",
    "        guess = guess_scores[np.argmin(guess_scores[:, 1].astype(float)), 0]\n",
    "\n",
    "        possible_letters, r = get_possible_letters(possible_letters, guess, true_word)\n",
    "        required_letters.extend(r)\n",
    "        words_subset = get_words_subset(words_small, possible_letters, required_letters)\n",
    "    attempts_arr.append(attempts+1) #+1 since you have to actually input the "
   ]
  },
  {
   "cell_type": "code",
   "execution_count": 184,
   "metadata": {},
   "outputs": [
    {
     "data": {
      "text/plain": [
       "(array([ 27., 475., 437.,  53.,   5.,   3.]),\n",
       " array([1, 2, 3, 4, 5, 6, 7]),\n",
       " <BarContainer object of 6 artists>)"
      ]
     },
     "execution_count": 184,
     "metadata": {},
     "output_type": "execute_result"
    },
    {
     "data": {
      "image/png": "[encoded data removed]",
      "text/plain": [
       "<Figure size 432x288 with 1 Axes>"
      ]
     },
     "metadata": {
      "needs_background": "light"
     },
     "output_type": "display_data"
    }
   ],
   "source": [
    "fig, ax = plt.subplots()\n",
    "ax.hist(attempts_arr, ec='k', bins=range(1, 8))"
   ]
  },
  {
   "cell_type": "code",
   "execution_count": 183,
   "metadata": {},
   "outputs": [
    {
     "data": {
      "text/plain": [
       "2.545"
      ]
     },
     "execution_count": 183,
     "metadata": {},
     "output_type": "execute_result"
    }
   ],
   "source": [
    "np.mean(attempts_arr)"
   ]
  },
  {
   "cell_type": "code",
   "execution_count": 161,
   "metadata": {},
   "outputs": [],
   "source": [
    "guess_scores=get_guess_scores(words_subset, possible_letters, required_letters)\n"
   ]
  },
  {
   "cell_type": "code",
   "execution_count": 162,
   "metadata": {},
   "outputs": [
    {
     "name": "stdout",
     "output_type": "stream",
     "text": [
      "12.7 µs ± 361 ns per loop (mean ± std. dev. of 7 runs, 100,000 loops each)\n"
     ]
    }
   ],
   "source": [
    "%timeit guess_scores[guess_scores[:,1].astype(float).argsort()] # sort them so we can take a look"
   ]
  },
  {
   "cell_type": "code",
   "execution_count": 163,
   "metadata": {},
   "outputs": [
    {
     "name": "stdout",
     "output_type": "stream",
     "text": [
      "12 µs ± 971 ns per loop (mean ± std. dev. of 7 runs, 100,000 loops each)\n"
     ]
    }
   ],
   "source": [
    "%timeit np.argmin(guess_scores[:, 1].astype(float))"
   ]
  },
  {
   "cell_type": "code",
   "execution_count": 134,
   "metadata": {},
   "outputs": [],
   "source": [
    "# guess_scores=pickle.load(open(\"initial_guess_scores.pkl\", \"rb\" )) # precomputed best guess \n",
    "# guess_scores = guess_scores[guess_scores[:,1].astype(float).argsort()]"
   ]
  },
  {
   "cell_type": "code",
   "execution_count": 248,
   "metadata": {},
   "outputs": [],
   "source": [
    "# it works pretty well, and is definitely super human.\n",
    "# it falls a little flat when looking attempting to determine the last few guesses as there isn't much\n",
    "# differentiation and it is mostly down to luck.\n",
    "\n",
    "# bug when choosing non suggested guess\n",
    "# increase word libary to 2500\n",
    "# profiling\n",
    "# "
   ]
  }
 ],
 "metadata": {
  "kernelspec": {
   "display_name": "Python 3 (ipykernel)",
   "language": "python",
   "name": "python3"
  },
  "language_info": {
   "codemirror_mode": {
    "name": "ipython",
    "version": 3
   },
   "file_extension": ".py",
   "mimetype": "text/x-python",
   "name": "python",
   "nbconvert_exporter": "python",
   "pygments_lexer": "ipython3",
   "version": "3.8.10"
  }
 },
 "nbformat": 4,
 "nbformat_minor": 4
}
